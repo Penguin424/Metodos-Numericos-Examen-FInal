{
 "cells": [
  {
   "cell_type": "code",
   "execution_count": 1,
   "metadata": {},
   "outputs": [],
   "source": [
    "import numpy as np\n",
    "import matplotlib.pyplot as plt"
   ]
  },
  {
   "cell_type": "code",
   "execution_count": 66,
   "metadata": {},
   "outputs": [
    {
     "name": "stdout",
     "output_type": "stream",
     "text": [
      "------- Interpolacion Polinomica (Newton) -------\n",
      "Ingrese el grado del polinomio a evaluar: 8\n",
      "[[0.0, 0.0, 0.0, 0.0, 0.0, 0.0, 0.0, 0.0, 0.0], [0.0, 0.0, 0.0, 0.0, 0.0, 0.0, 0.0, 0.0, 0.0], [0.0, 0.0, 0.0, 0.0, 0.0, 0.0, 0.0, 0.0, 0.0], [0.0, 0.0, 0.0, 0.0, 0.0, 0.0, 0.0, 0.0, 0.0], [0.0, 0.0, 0.0, 0.0, 0.0, 0.0, 0.0, 0.0, 0.0], [0.0, 0.0, 0.0, 0.0, 0.0, 0.0, 0.0, 0.0, 0.0], [0.0, 0.0, 0.0, 0.0, 0.0, 0.0, 0.0, 0.0, 0.0], [0.0, 0.0, 0.0, 0.0, 0.0, 0.0, 0.0, 0.0, 0.0], [0.0, 0.0, 0.0, 0.0, 0.0, 0.0, 0.0, 0.0, 0.0]]\n",
      "[0.0, 0.0, 0.0, 0.0, 0.0, 0.0, 0.0, 0.0, 0.0]\n",
      "Ingrese el valor de x: 2\n",
      "Ingrese el valor de f(2): 3\n",
      "Ingrese el valor de x: 51\n",
      "Ingrese el valor de f(51): 2\n",
      "Ingrese el valor de x: 332\n",
      "Ingrese el valor de f(332): 2\n",
      "Ingrese el valor de x: 12\n",
      "Ingrese el valor de f(12): 23\n",
      "Ingrese el valor de x: 12\n",
      "Ingrese el valor de f(12): 22\n",
      "Ingrese el valor de x: 12\n",
      "Ingrese el valor de f(12): 44\n",
      "Ingrese el valor de x: 133\n",
      "Ingrese el valor de f(133): 91\n",
      "Ingrese el valor de x: 23\n",
      "Ingrese el valor de f(23): 1220\n",
      "Ingrese el valor de x: 32\n",
      "Ingrese el valor de f(32): 4421\n",
      "[2.0, 51.0, 332.0, 12.0, 12.0, 12.0, 133.0, 23.0, 32.0]\n",
      "[[3.0, 0.0, 0.0, 0.0, 0.0, 0.0, 0.0, 0.0, 0.0], [2.0, 0.0, 0.0, 0.0, 0.0, 0.0, 0.0, 0.0, 0.0], [2.0, 0.0, 0.0, 0.0, 0.0, 0.0, 0.0, 0.0, 0.0], [23.0, 0.0, 0.0, 0.0, 0.0, 0.0, 0.0, 0.0, 0.0], [22.0, 0.0, 0.0, 0.0, 0.0, 0.0, 0.0, 0.0, 0.0], [44.0, 0.0, 0.0, 0.0, 0.0, 0.0, 0.0, 0.0, 0.0], [91.0, 0.0, 0.0, 0.0, 0.0, 0.0, 0.0, 0.0, 0.0], [1220.0, 0.0, 0.0, 0.0, 0.0, 0.0, 0.0, 0.0, 0.0], [4421.0, 0.0, 0.0, 0.0, 0.0, 0.0, 0.0, 0.0, 0.0]]\n",
      "Ingrese el punto a evaluar: 55\n",
      "------------------------------\n",
      "------- Calculando ... -------\n",
      "------------------------------\n",
      "i= 1     j= 1\n",
      "( 2.0 - 3.0 )/( 51.0 - 2.0 )\n",
      "matriz[ 1 ][ 1 ] =  -0.02040816326530612\n",
      "i= 1     j= 2\n",
      "( 2.0 - 2.0 )/( 332.0 - 51.0 )\n",
      "matriz[ 2 ][ 1 ] =  0.0\n",
      "i= 1     j= 3\n",
      "( 23.0 - 2.0 )/( 12.0 - 332.0 )\n",
      "matriz[ 3 ][ 1 ] =  -0.065625\n",
      "i= 1     j= 4\n",
      "( 22.0 - 23.0 )/( 12.0 - 12.0 )\n"
     ]
    },
    {
     "ename": "ZeroDivisionError",
     "evalue": "float division by zero",
     "output_type": "error",
     "traceback": [
      "\u001b[0;31m---------------------------------------------------------------------------\u001b[0m",
      "\u001b[0;31mZeroDivisionError\u001b[0m                         Traceback (most recent call last)",
      "\u001b[0;32m<ipython-input-66-4443143cf778>\u001b[0m in \u001b[0;36m<module>\u001b[0;34m\u001b[0m\n\u001b[1;32m     31\u001b[0m         \u001b[0mprint\u001b[0m\u001b[0;34m(\u001b[0m\u001b[0;34m\"i=\"\u001b[0m\u001b[0;34m,\u001b[0m\u001b[0mi\u001b[0m\u001b[0;34m,\u001b[0m\u001b[0;34m\"    j=\"\u001b[0m\u001b[0;34m,\u001b[0m\u001b[0mj\u001b[0m\u001b[0;34m)\u001b[0m\u001b[0;34m\u001b[0m\u001b[0;34m\u001b[0m\u001b[0m\n\u001b[1;32m     32\u001b[0m         \u001b[0mprint\u001b[0m\u001b[0;34m(\u001b[0m\u001b[0;34m\"(\"\u001b[0m\u001b[0;34m,\u001b[0m\u001b[0mmatriz\u001b[0m\u001b[0;34m[\u001b[0m\u001b[0mj\u001b[0m\u001b[0;34m]\u001b[0m\u001b[0;34m[\u001b[0m\u001b[0mi\u001b[0m\u001b[0;34m-\u001b[0m\u001b[0;36m1\u001b[0m\u001b[0;34m]\u001b[0m\u001b[0;34m,\u001b[0m\u001b[0;34m\"-\"\u001b[0m\u001b[0;34m,\u001b[0m\u001b[0mmatriz\u001b[0m\u001b[0;34m[\u001b[0m\u001b[0mj\u001b[0m\u001b[0;34m-\u001b[0m\u001b[0;36m1\u001b[0m\u001b[0;34m]\u001b[0m\u001b[0;34m[\u001b[0m\u001b[0mi\u001b[0m\u001b[0;34m-\u001b[0m\u001b[0;36m1\u001b[0m\u001b[0;34m]\u001b[0m\u001b[0;34m,\u001b[0m\u001b[0;34m\")/(\"\u001b[0m\u001b[0;34m,\u001b[0m\u001b[0mvector\u001b[0m\u001b[0;34m[\u001b[0m\u001b[0mj\u001b[0m\u001b[0;34m]\u001b[0m\u001b[0;34m,\u001b[0m\u001b[0;34m\"-\"\u001b[0m\u001b[0;34m,\u001b[0m\u001b[0mvector\u001b[0m\u001b[0;34m[\u001b[0m\u001b[0mj\u001b[0m\u001b[0;34m-\u001b[0m\u001b[0mi\u001b[0m\u001b[0;34m]\u001b[0m\u001b[0;34m,\u001b[0m\u001b[0;34m\")\"\u001b[0m\u001b[0;34m)\u001b[0m\u001b[0;34m\u001b[0m\u001b[0;34m\u001b[0m\u001b[0m\n\u001b[0;32m---> 33\u001b[0;31m         \u001b[0mmatriz\u001b[0m\u001b[0;34m[\u001b[0m\u001b[0mj\u001b[0m\u001b[0;34m]\u001b[0m\u001b[0;34m[\u001b[0m\u001b[0mi\u001b[0m\u001b[0;34m]\u001b[0m \u001b[0;34m=\u001b[0m \u001b[0;34m(\u001b[0m\u001b[0;34m(\u001b[0m\u001b[0mmatriz\u001b[0m\u001b[0;34m[\u001b[0m\u001b[0mj\u001b[0m\u001b[0;34m]\u001b[0m\u001b[0;34m[\u001b[0m\u001b[0mi\u001b[0m\u001b[0;34m-\u001b[0m\u001b[0;36m1\u001b[0m\u001b[0;34m]\u001b[0m\u001b[0;34m-\u001b[0m\u001b[0mmatriz\u001b[0m\u001b[0;34m[\u001b[0m\u001b[0mj\u001b[0m\u001b[0;34m-\u001b[0m\u001b[0;36m1\u001b[0m\u001b[0;34m]\u001b[0m\u001b[0;34m[\u001b[0m\u001b[0mi\u001b[0m\u001b[0;34m-\u001b[0m\u001b[0;36m1\u001b[0m\u001b[0;34m]\u001b[0m\u001b[0;34m)\u001b[0m \u001b[0;34m/\u001b[0m \u001b[0;34m(\u001b[0m\u001b[0mvector\u001b[0m\u001b[0;34m[\u001b[0m\u001b[0mj\u001b[0m\u001b[0;34m]\u001b[0m\u001b[0;34m-\u001b[0m\u001b[0mvector\u001b[0m\u001b[0;34m[\u001b[0m\u001b[0mj\u001b[0m\u001b[0;34m-\u001b[0m\u001b[0mi\u001b[0m\u001b[0;34m]\u001b[0m\u001b[0;34m)\u001b[0m\u001b[0;34m)\u001b[0m\u001b[0;34m\u001b[0m\u001b[0;34m\u001b[0m\u001b[0m\n\u001b[0m\u001b[1;32m     34\u001b[0m         \u001b[0mprint\u001b[0m\u001b[0;34m(\u001b[0m\u001b[0;34m\"matriz[\"\u001b[0m\u001b[0;34m,\u001b[0m\u001b[0mj\u001b[0m\u001b[0;34m,\u001b[0m\u001b[0;34m\"][\"\u001b[0m\u001b[0;34m,\u001b[0m\u001b[0mi\u001b[0m\u001b[0;34m,\u001b[0m\u001b[0;34m\"] = \"\u001b[0m\u001b[0;34m,\u001b[0m\u001b[0;34m(\u001b[0m\u001b[0mmatriz\u001b[0m\u001b[0;34m[\u001b[0m\u001b[0mj\u001b[0m\u001b[0;34m]\u001b[0m\u001b[0;34m[\u001b[0m\u001b[0mi\u001b[0m\u001b[0;34m-\u001b[0m\u001b[0;36m1\u001b[0m\u001b[0;34m]\u001b[0m\u001b[0;34m-\u001b[0m\u001b[0mmatriz\u001b[0m\u001b[0;34m[\u001b[0m\u001b[0mj\u001b[0m\u001b[0;34m-\u001b[0m\u001b[0;36m1\u001b[0m\u001b[0;34m]\u001b[0m\u001b[0;34m[\u001b[0m\u001b[0mi\u001b[0m\u001b[0;34m-\u001b[0m\u001b[0;36m1\u001b[0m\u001b[0;34m]\u001b[0m\u001b[0;34m)\u001b[0m\u001b[0;34m/\u001b[0m\u001b[0;34m(\u001b[0m\u001b[0mvector\u001b[0m\u001b[0;34m[\u001b[0m\u001b[0mj\u001b[0m\u001b[0;34m]\u001b[0m\u001b[0;34m-\u001b[0m\u001b[0mvector\u001b[0m\u001b[0;34m[\u001b[0m\u001b[0mj\u001b[0m\u001b[0;34m-\u001b[0m\u001b[0mi\u001b[0m\u001b[0;34m]\u001b[0m\u001b[0;34m)\u001b[0m\u001b[0;34m)\u001b[0m\u001b[0;34m\u001b[0m\u001b[0;34m\u001b[0m\u001b[0m\n\u001b[1;32m     35\u001b[0m \u001b[0;34m\u001b[0m\u001b[0m\n",
      "\u001b[0;31mZeroDivisionError\u001b[0m: float division by zero"
     ]
    }
   ],
   "source": [
    "print(\"------- Interpolacion Polinomica (Newton) -------\")\n",
    "n = int(input(\"Ingrese el grado del polinomio a evaluar: \"))+1\n",
    "# print \"El grado del polinomio es: \", n\n",
    "\n",
    "matriz = [0.0] * n\n",
    "for i in range(n):\n",
    "    matriz[i] = [0.0] * n\n",
    "\n",
    "vector = [0.0] * n\n",
    "\n",
    "print(matriz)\n",
    "print(vector)\n",
    "for i in range(n):\n",
    "    x = input(\"Ingrese el valor de x: \")\n",
    "    y = input(\"Ingrese el valor de f(\"+x+\"): \")\n",
    "    vector[i]=float(x)\n",
    "    matriz[i][0]=float(y)\n",
    "\n",
    "print(vector)    \n",
    "print(matriz)\n",
    "\n",
    "punto_a_evaluar = float(input(\"Ingrese el punto a evaluar: \"))\n",
    "\n",
    "print(\"------------------------------\")\n",
    "print(\"------- Calculando ... -------\")\n",
    "print(\"------------------------------\")\n",
    "\n",
    "for i in range(1,n):\n",
    "    for j in range(i,n):\n",
    "        print(\"i=\",i,\"    j=\",j)\n",
    "        print(\"(\",matriz[j][i-1],\"-\",matriz[j-1][i-1],\")/(\",vector[j],\"-\",vector[j-i],\")\")\n",
    "        matriz[j][i] = ((matriz[j][i-1]-matriz[j-1][i-1]) / (vector[j]-vector[j-i]))\n",
    "        print(\"matriz[\",j,\"][\",i,\"] = \",(matriz[j][i-1]-matriz[j-1][i-1])/(vector[j]-vector[j-i]))\n",
    "\n",
    "print(\"------------------------------\")\n",
    "print(\"------------------------------\")\n",
    "for i in range(n):\n",
    "    print(matriz[i])\n",
    "print(\"------------------------------\")\n",
    "print(\"------------------------------\")\n",
    "\n",
    "aprx = 0\n",
    "mul = 1.0\n",
    "for i in range(n):\n",
    "    print(\"matriz[\",i,\"][\",i,\"]\",\"=\",matriz[i][i])\n",
    "    mul = matriz[i][i];\n",
    "    print(\"mul antes del ciclo j=\",mul)\n",
    "    for j in range(1,i+1):\n",
    "        mul = mul * (punto_a_evaluar - vector[j-1])\n",
    "        print(\"mul en el ciclo j=\",mul)\n",
    "    # print aprx\n",
    "    aprx = aprx + mul\n",
    "\n",
    "print(\"------------------------------\")\n",
    "print(\"------------------------------\")\n",
    "print(\"El valor aproximado de f(\",punto_a_evaluar,\") es: \", aprx)"
   ]
  },
  {
   "cell_type": "code",
   "execution_count": null,
   "metadata": {},
   "outputs": [],
   "source": []
  },
  {
   "cell_type": "code",
   "execution_count": 55,
   "metadata": {},
   "outputs": [],
   "source": [
    "from sympy import symbols\n",
    "import numpy as np\n",
    "from numpy import zeros, diag\n",
    "from fractions import Fraction\n",
    "import math"
   ]
  },
  {
   "cell_type": "code",
   "execution_count": 12,
   "metadata": {},
   "outputs": [],
   "source": [
    "x = symbols('x')\n",
    "\n",
    "\n",
    "def diferencias(x, y, n):\n",
    "    '''\n",
    "    (array, array, int) -> array\n",
    "    Dados los n datos de una tabla (x,y) calcula sus diferencias\n",
    "    divididas. Nos devuelve un array con los elementos de la\n",
    "    diagonal principal, que son los coeficientes del polinomio\n",
    "    de Taylor.\n",
    "    '''\n",
    "    T = y\n",
    "    for k in range(1, n + 1):\n",
    "        T[k: n] = (T[k: n] - T[k - 1]) / (x[k: n] - x[k - 1])\n",
    "    return T\n",
    "\n",
    "\n",
    "def polnewton(diff, x, x0):\n",
    "    '''\n",
    "    (array, array, float) -> list\n",
    "    Dados los coeficientes del Polinomio de Taylor con diff y el vector\n",
    "    de abscisas x nos calcula las aproximaciones del Polinomio de Taylor\n",
    "    centradas en el punto x0.\n",
    "    En una lista nos devuelve con pol el valor aproximado, y con P un array\n",
    "    con todas las aproximaciones obtenidas en cada paso y así poderlas dibujar.\n",
    "    '''\n",
    "    n = len(x) - 1\n",
    "    P = np.zeros(len(x), dtype=float)\n",
    "    pol = diff[n]\n",
    "    for k in range(1, n + 1):\n",
    "        pol = diff[n - k] + (x0 - x[n - k])*pol\n",
    "        P[k] = pol\n",
    "    return [pol, P]"
   ]
  },
  {
   "cell_type": "code",
   "execution_count": 52,
   "metadata": {},
   "outputs": [
    {
     "name": "stdout",
     "output_type": "stream",
     "text": [
      "[-18  13  -5   1   0   0]\n",
      "1e-07\n"
     ]
    }
   ],
   "source": [
    "x = np.array([-2, -1, 0, 2, 3, 6])\n",
    "y = np.array([-18, -5, -2, -2, 7 ,142])\n",
    "n = len(x)\n",
    "\n",
    "print(diferencias(x, y, n))\n",
    "\n",
    "print(1e-7)"
   ]
  },
  {
   "cell_type": "code",
   "execution_count": 96,
   "metadata": {},
   "outputs": [
    {
     "name": "stdout",
     "output_type": "stream",
     "text": [
      "Introduce el limte superior1\n",
      "Introduce el limte inferior-1\n",
      "Introduce el numero de trapecios6\n",
      "El valor de la integral es 0.7037037037037035\n"
     ]
    }
   ],
   "source": [
    "def F(x):\n",
    "    return x**2\n",
    "\n",
    "b = float(input('Introduce el limte superior'))\n",
    "a = float(input('Introduce el limte inferior'))\n",
    "n = int(input('Introduce el numero de trapecios'))\n",
    "\n",
    "x = np.zeros([n+1])\n",
    "h = (b-a)/n\n",
    "x[0] = a\n",
    "x[n] = b\n",
    "suma = 0\n",
    "\n",
    "for i in np.arange(1, n):\n",
    "    x[i] = x[i - 1] + h\n",
    "    suma = suma + F(x[i])\n",
    "    \n",
    "integral = (h/2) * (F(x[0]) + 2  * suma + F(x[n]))\n",
    "\n",
    "print(\"El valor de la integral es {}\".format(integral))"
   ]
  },
  {
   "cell_type": "code",
   "execution_count": 76,
   "metadata": {},
   "outputs": [
    {
     "name": "stdout",
     "output_type": "stream",
     "text": [
      "Introduce el limte superior1\n",
      "Introduce el limte inferior0\n",
      "Introduce el numero de trapecios6\n"
     ]
    },
    {
     "data": {
      "text/plain": [
       "0.6931697931697931"
      ]
     },
     "execution_count": 76,
     "metadata": {},
     "output_type": "execute_result"
    }
   ],
   "source": [
    "from math import *\n",
    "\n",
    "\n",
    "def f(x):\n",
    "    return 1/(1 + x)\n",
    "\n",
    "def fx(x, f):\n",
    "    return eval(f)\n",
    "\n",
    "\n",
    "def simpson13(n, a, b, f):\n",
    "    #calculamos h\n",
    "    h = (b - a) / n\n",
    "    #Inicializamos nuestra varible donde se almacenara las sumas\n",
    "    suma = 0.0\n",
    "    #hacemos un ciclo para ir sumando las areas\n",
    "    for i in range(1, n):\n",
    "        #calculamos la x\n",
    "        #x = a - h + (2 * h * i)\n",
    "        x = a + i * h\n",
    "        # si es par se multiplica por 4\n",
    "        if(i % 2 == 0):\n",
    "            suma = suma + 2 * fx(x, f)\n",
    "        #en caso contrario se multiplica por 2\n",
    "        else:\n",
    "            suma = suma + 4 * fx(x, f)\n",
    "    #sumamos los el primer elemento y el ultimo\n",
    "    suma = suma + fx(a, f) + fx(b, f)\n",
    "    #Multiplicamos por h/3\n",
    "    rest = suma * (h / 3)\n",
    "    #Retornamos el resultado\n",
    "    return (rest)\n",
    "\n",
    "b = float(input('Introduce el limte superior'))\n",
    "a = float(input('Introduce el limte inferior'))\n",
    "n = int(input('Introduce el numero de trapecios'))\n",
    "h = (b - a) / n\n",
    "\n",
    "simpson13(n,a,b, '1/(1 + x)')"
   ]
  },
  {
   "cell_type": "code",
   "execution_count": 95,
   "metadata": {},
   "outputs": [
    {
     "name": "stdout",
     "output_type": "stream",
     "text": [
      "a: -1\n",
      "b: 1\n",
      "tramos: 3\n",
      "Integral:  1.4935209946717198\n"
     ]
    }
   ],
   "source": [
    "# Integración: Cuadratura de Gauss de dos puntos\n",
    "# modelo con varios tramos entre [a,b]\n",
    "import numpy as np\n",
    "import matplotlib.pyplot as plt\n",
    "\n",
    "# cuadratura de Gauss de dos puntos\n",
    "def integraCuadGauss2p(funcionx,a,b):\n",
    "    x0 = -1/np.sqrt(3)\n",
    "    x1 = -x0\n",
    "    xa = (b+a)/2 + (b-a)/2*(x0)\n",
    "    xb = (b+a)/2 + (b-a)/2*(x1)\n",
    "    area = ((b-a)/2)*(funcionx(xa) + funcionx(xb))\n",
    "    return(area)\n",
    "\n",
    "#Función a evaluar\n",
    "def funcionx(x):\n",
    "    fxi = np.e**-x**2\n",
    "    return(fxi)\n",
    "\n",
    "# PROGRAMA\n",
    "a = float(input('a: '))\n",
    "b = float(input('b: '))\n",
    "tramos = int(input('tramos: '))\n",
    "\n",
    "# PROCEDIMIENTO\n",
    "muestras = tramos+1\n",
    "xi = np.linspace(a,b,muestras)\n",
    "area = 0\n",
    "for i in range(0,muestras-1,1):\n",
    "    deltaA = integraCuadGauss2p(funcionx,xi[i],xi[i+1])\n",
    "    area = area + deltaA\n",
    "# SALIDA\n",
    "print('Integral: ', area)\n"
   ]
  },
  {
   "cell_type": "code",
   "execution_count": null,
   "metadata": {},
   "outputs": [],
   "source": []
  },
  {
   "cell_type": "code",
   "execution_count": null,
   "metadata": {},
   "outputs": [],
   "source": []
  }
 ],
 "metadata": {
  "kernelspec": {
   "display_name": "Python 3",
   "language": "python",
   "name": "python3"
  },
  "language_info": {
   "codemirror_mode": {
    "name": "ipython",
    "version": 3
   },
   "file_extension": ".py",
   "mimetype": "text/x-python",
   "name": "python",
   "nbconvert_exporter": "python",
   "pygments_lexer": "ipython3",
   "version": "3.7.6"
  }
 },
 "nbformat": 4,
 "nbformat_minor": 4
}
